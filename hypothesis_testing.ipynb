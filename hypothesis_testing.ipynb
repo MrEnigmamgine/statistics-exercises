{
 "cells": [
  {
   "cell_type": "markdown",
   "metadata": {},
   "source": [
    "For each of the following questions:  \n",
    "   Formulate a null and alternative hypothesis (be as specific as you can be),  \n",
    "   Then give an example of what a true positive, true negative, type I and type II errors would look like. \n",
    "    \n",
    "Note that some of the questions are intentionally phrased in a vague way. It is your job to reword these as more precise questions that could be tested."
   ]
  },
  {
   "cell_type": "markdown",
   "metadata": {},
   "source": [
    "#### Has the network latency gone up since we switched internet service providers?\n"
   ]
  },
  {
   "cell_type": "markdown",
   "metadata": {},
   "source": [
    "`H_0` = Average ping to a set of defined hosts is similar to what it was before ISP switch.  \n",
    "`H_1` = Average ping to a set of defined hosts has increased compared to what it was before ISP switch.  \n",
    "`H_2` = Average ping to a set of defined hosts has decreased compared to what it was before ISP switch.  "
   ]
  },
  {
   "cell_type": "markdown",
   "metadata": {},
   "source": [
    "`type I error` = Increased usage is causing higher latency  \n",
    "`type II error` = Lower overall latency coupled with latency spikes could make the average similar"
   ]
  },
  {
   "cell_type": "markdown",
   "metadata": {},
   "source": [
    "#### Is the website redesign any good?\n"
   ]
  },
  {
   "cell_type": "markdown",
   "metadata": {},
   "source": [
    "`H_0` = Company KPIs experienced no change since website redesign.  \n",
    "`H_1` = Company KPIs changed positively since website redesign.  \n",
    "`H_2` = Company KPIs changed negatively since website redesign.  "
   ]
  },
  {
   "cell_type": "markdown",
   "metadata": {},
   "source": [
    "`I` = Falsely reject due to other factors influencing KPIs  \n",
    "`II` = Fail to reject due to KPIs involved being disconnected from website performance"
   ]
  },
  {
   "cell_type": "markdown",
   "metadata": {},
   "source": [
    "#### Is our television ad driving more sales?"
   ]
  },
  {
   "cell_type": "markdown",
   "metadata": {},
   "source": [
    "`H_0` = Sales numbers experienced no change since introduction of AD.  \n",
    "`H_1` = Sales numbers changed positively since introduction of AD.  \n",
    "`H_2` = Sales numbers changed negatively since introduction of AD.  "
   ]
  },
  {
   "cell_type": "markdown",
   "metadata": {},
   "source": [
    "`I` = Falsely reject due random spike in sales  \n",
    "`II` = Fail to reject due to economic factors decreasing sales"
   ]
  }
 ],
 "metadata": {
  "kernelspec": {
   "display_name": "Python 3.10.4 64-bit",
   "language": "python",
   "name": "python3"
  },
  "language_info": {
   "codemirror_mode": {
    "name": "ipython",
    "version": 3
   },
   "file_extension": ".py",
   "mimetype": "text/x-python",
   "name": "python",
   "nbconvert_exporter": "python",
   "pygments_lexer": "ipython3",
   "version": "3.10.4"
  },
  "orig_nbformat": 4,
  "vscode": {
   "interpreter": {
    "hash": "37b4e1d782780d9803a775659fc8b81e9cc61a0899d4564192c1f7cc3c556e45"
   }
  }
 },
 "nbformat": 4,
 "nbformat_minor": 2
}
