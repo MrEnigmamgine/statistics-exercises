{
 "cells": [
  {
   "cell_type": "code",
   "execution_count": 1,
   "metadata": {},
   "outputs": [],
   "source": [
    "import pandas as pd\n",
    "import numpy as np\n",
    "import scipy.stats as stats\n",
    "import matplotlib.pyplot as plt\n",
    "import seaborn as sns\n",
    "from math import sqrt"
   ]
  },
  {
   "cell_type": "markdown",
   "metadata": {},
   "source": [
    "#### Toolbox"
   ]
  },
  {
   "cell_type": "code",
   "execution_count": 19,
   "metadata": {},
   "outputs": [],
   "source": [
    "\n",
    "def get_rolls(die, roll_size):\n",
    "    rolls = np.random.choice(range(1,die+1), size = roll_size)\n",
    "    return rolls\n",
    "\n",
    "def roll(n_die,n_faces):\n",
    "    return np.random.choice(range(1,n_faces+1), n_die).sum()\n",
    "\n",
    "die_sizes = [4,6,8,10,12,20,100]\n",
    "n_rolls = 10**5"
   ]
  },
  {
   "cell_type": "code",
   "execution_count": 20,
   "metadata": {},
   "outputs": [
    {
     "data": {
      "text/plain": [
       "4"
      ]
     },
     "execution_count": 20,
     "metadata": {},
     "output_type": "execute_result"
    }
   ],
   "source": [
    "roll(1,6)"
   ]
  },
  {
   "cell_type": "markdown",
   "metadata": {},
   "source": [
    "#### 1. \n"
   ]
  },
  {
   "cell_type": "markdown",
   "metadata": {},
   "source": [
    "How likely is it that you roll doubles when rolling two dice?\n"
   ]
  },
  {
   "cell_type": "code",
   "execution_count": 21,
   "metadata": {},
   "outputs": [
    {
     "name": "stdout",
     "output_type": "stream",
     "text": [
      "D4: 25.0%\n",
      "D6: 16.8%\n",
      "D8: 12.5%\n",
      "D10: 10.0%\n",
      "D12: 8.4%\n",
      "D20: 5.0%\n",
      "D100: 1.0%\n"
     ]
    }
   ],
   "source": [
    "\n",
    "\n",
    "for d in die_sizes:\n",
    "    faces = range(1,d+1)\n",
    "    rollSize = (n_rolls, 2)\n",
    "    rolls = np.random.choice(faces, rollSize)\n",
    "    chance = (np.diff(rolls, axis=1) == 0).mean()\n",
    "    print(\"D{}: {:.1%}\".format(d, chance))"
   ]
  },
  {
   "cell_type": "markdown",
   "metadata": {},
   "source": [
    "##### work"
   ]
  },
  {
   "cell_type": "code",
   "execution_count": 51,
   "metadata": {},
   "outputs": [
    {
     "data": {
      "text/plain": [
       "array([[1, 1],\n",
       "       [3, 2],\n",
       "       [1, 4],\n",
       "       ...,\n",
       "       [3, 2],\n",
       "       [1, 2],\n",
       "       [3, 1]])"
      ]
     },
     "execution_count": 51,
     "metadata": {},
     "output_type": "execute_result"
    }
   ],
   "source": [
    "d = 4\n",
    "rolls = np.random.choice(range(1,d+1), size = (n_rolls, 2 ))\n",
    "rolls"
   ]
  },
  {
   "cell_type": "code",
   "execution_count": 54,
   "metadata": {},
   "outputs": [
    {
     "data": {
      "text/plain": [
       "0.24985"
      ]
     },
     "execution_count": 54,
     "metadata": {},
     "output_type": "execute_result"
    }
   ],
   "source": [
    "(np.diff(rolls, axis=1) == 0).mean()"
   ]
  },
  {
   "cell_type": "code",
   "execution_count": 38,
   "metadata": {},
   "outputs": [
    {
     "data": {
      "text/plain": [
       "0.24882"
      ]
     },
     "execution_count": 38,
     "metadata": {},
     "output_type": "execute_result"
    }
   ],
   "source": [
    "pd.DataFrame(rolls).apply(lambda row: row[0] == row[1], axis = 1).mean()"
   ]
  },
  {
   "cell_type": "markdown",
   "metadata": {},
   "source": [
    "\n",
    "#### 2."
   ]
  },
  {
   "cell_type": "markdown",
   "metadata": {},
   "source": [
    " \n",
    "If you flip 8 coins, what is the probability of getting exactly 3 heads? What is the probability of getting more than 3 heads?\n"
   ]
  },
  {
   "cell_type": "code",
   "execution_count": 22,
   "metadata": {},
   "outputs": [
    {
     "name": "stdout",
     "output_type": "stream",
     "text": [
      "Exactly 3: 21.8%\n",
      "More than 3: 63.9%\n"
     ]
    }
   ],
   "source": [
    "flips = np.random.choice([0,1], size = (n_rolls, 8))\n",
    "flips_sum = flips.sum(axis=1)\n",
    "exactly_3 = (flips_sum == 3).mean()\n",
    "more_3 = (flips_sum > 3).mean()\n",
    "print(\"Exactly 3: {:.1%}\".format(exactly_3))\n",
    "print(\"More than 3: {:.1%}\".format(more_3))\n"
   ]
  },
  {
   "cell_type": "markdown",
   "metadata": {},
   "source": [
    "\n",
    "#### 3. \n"
   ]
  },
  {
   "cell_type": "markdown",
   "metadata": {},
   "source": [
    "There are approximitely 3 web development cohorts for every 1 data science cohort at Codeup. Assuming that Codeup randomly selects an alumni to put on a billboard, what are the odds that the two billboards I drive past both have data science students on them?\n"
   ]
  },
  {
   "cell_type": "code",
   "execution_count": 83,
   "metadata": {},
   "outputs": [
    {
     "name": "stdout",
     "output_type": "stream",
     "text": [
      "Odds = 6.7%\n",
      "Chance = 6.3%\n"
     ]
    }
   ],
   "source": [
    "#Assuming 'data science students' is meant to be 'data science cohorts'\n",
    "\n",
    "pool = ['wd']*3 + ['ds']\n",
    "billboards = np.random.choice(pool, (n_rolls, 2))\n",
    "ds_billboards = billboards == 'ds'\n",
    "both_ds_billboards = ds_billboards.sum(axis=1) == 2\n",
    "probability = both_ds_billboards.mean()\n",
    "odds = (probability / (1 - probability))\n",
    "print(\"Odds = {:.1%}\".format(odds))\n",
    "print(\"Chance = {:.1%}\".format(probability))"
   ]
  },
  {
   "cell_type": "markdown",
   "metadata": {},
   "source": [
    "\n",
    "#### 4. "
   ]
  },
  {
   "cell_type": "markdown",
   "metadata": {},
   "source": [
    "Codeup students buy, on average, 3 poptart packages with a standard deviation of 1.5 a day from the snack vending machine. If on monday the machine is restocked with 17 poptart packages, how likely is it that I will be able to buy some poptarts on Friday afternoon? (Remember, if you have mean and standard deviation, use the np.random.normal) You'll need to make a judgement call on how to handle some of your values\n"
   ]
  },
  {
   "cell_type": "code",
   "execution_count": 23,
   "metadata": {},
   "outputs": [
    {
     "data": {
      "text/plain": [
       "'67.0%'"
      ]
     },
     "execution_count": 23,
     "metadata": {},
     "output_type": "execute_result"
    }
   ],
   "source": [
    "mu, sigma = 3, 1.5\n",
    "poptarts = np.random.normal(mu, sigma, (n_rolls, 5))\n",
    "poptarts_remaining = 17 - poptarts.round().sum(axis=1)\n",
    "likelyhood = (poptarts_remaining >= 1).mean()\n",
    "\"{:.1%}\".format(likelyhood)"
   ]
  },
  {
   "cell_type": "markdown",
   "metadata": {},
   "source": [
    "\n",
    "#### 5. "
   ]
  },
  {
   "cell_type": "markdown",
   "metadata": {},
   "source": [
    "Compare Heights\n",
    "\n",
    " - Men have an average height of 178 cm and standard deviation of 8cm.\n",
    " - Women have a mean of 170, sd = 6cm.\n",
    " - Since you have means and standard deviations, you can use np.random.normal to generate observations.\n",
    " - If a man and woman are chosen at random, what is the likelihood the woman is taller than the man?\n"
   ]
  },
  {
   "cell_type": "code",
   "execution_count": 94,
   "metadata": {},
   "outputs": [
    {
     "data": {
      "text/plain": [
       "'21.2%'"
      ]
     },
     "execution_count": 94,
     "metadata": {},
     "output_type": "execute_result"
    }
   ],
   "source": [
    "mmu, msigma = 178, 8\n",
    "wmu, wsigma = 170, 6\n",
    "men = np.random.normal(mmu, msigma, n_rolls)\n",
    "women = np.random.normal(wmu, wsigma, n_rolls)\n",
    "diff = women - men\n",
    "chance = (diff > 0).mean()\n",
    "\"{:.1%}\".format(chance)"
   ]
  },
  {
   "cell_type": "markdown",
   "metadata": {},
   "source": [
    "\n",
    "#### 6. "
   ]
  },
  {
   "cell_type": "markdown",
   "metadata": {},
   "source": [
    "When installing anaconda on a student's computer, there's a 1 in 250 chance that the download is corrupted and the installation fails. What are the odds that after having 50 students download anaconda, no one has an installation issue? 100 students?\n",
    "\n",
    "What is the probability that we observe an installation issue within the first 150 students that download anaconda?\n",
    "\n",
    "How likely is it that 450 students all download anaconda without an issue?\n"
   ]
  },
  {
   "cell_type": "code",
   "execution_count": 104,
   "metadata": {},
   "outputs": [
    {
     "data": {
      "text/plain": [
       "0.81636"
      ]
     },
     "execution_count": 104,
     "metadata": {},
     "output_type": "execute_result"
    }
   ],
   "source": [
    "six_a = np.random.choice([True,False], (n_rolls, 50 ), p=[249/250,1/250])\n",
    "six_a_flawless = six_a.mean(axis=1) == 1\n",
    "six_a_flawless.mean()\n"
   ]
  },
  {
   "cell_type": "code",
   "execution_count": 105,
   "metadata": {},
   "outputs": [
    {
     "data": {
      "text/plain": [
       "0.67004"
      ]
     },
     "execution_count": 105,
     "metadata": {},
     "output_type": "execute_result"
    }
   ],
   "source": [
    "six_b = np.random.choice([True,False], (n_rolls, 100 ), p=[249/250,1/250])\n",
    "six_b_flawless = six_b.mean(axis=1) == 1\n",
    "six_b_flawless.mean()\n"
   ]
  },
  {
   "cell_type": "code",
   "execution_count": 106,
   "metadata": {},
   "outputs": [
    {
     "data": {
      "text/plain": [
       "0.44887999999999995"
      ]
     },
     "execution_count": 106,
     "metadata": {},
     "output_type": "execute_result"
    }
   ],
   "source": [
    "six_c = np.random.choice([True,False], (n_rolls, 150 ), p=[249/250,1/250])\n",
    "six_c_flawless = six_c.mean(axis=1) == 1\n",
    "1- six_c_flawless.mean()\n"
   ]
  },
  {
   "cell_type": "code",
   "execution_count": 107,
   "metadata": {},
   "outputs": [
    {
     "data": {
      "text/plain": [
       "0.1643"
      ]
     },
     "execution_count": 107,
     "metadata": {},
     "output_type": "execute_result"
    }
   ],
   "source": [
    "six_d = np.random.choice([True,False], (n_rolls, 450 ), p=[ 249/250, 1/250 ])\n",
    "six_d_flawless = six_d.mean(axis=1) == 1\n",
    "six_d_flawless.mean()\n"
   ]
  },
  {
   "cell_type": "markdown",
   "metadata": {},
   "source": [
    "\n",
    "#### 7. "
   ]
  },
  {
   "cell_type": "markdown",
   "metadata": {},
   "source": [
    "There's a 70% chance on any given day that there will be at least one food truck at Travis Park. However, you haven't seen a food truck there in 3 days. How unlikely is this?\n",
    "\n",
    "How likely is it that a food truck will show up sometime this week?\n"
   ]
  },
  {
   "cell_type": "code",
   "execution_count": 114,
   "metadata": {},
   "outputs": [
    {
     "data": {
      "text/plain": [
       "0.02755"
      ]
     },
     "execution_count": 114,
     "metadata": {},
     "output_type": "execute_result"
    }
   ],
   "source": [
    "truck_arrival = np.random.choice([True,False], (n_rolls, 3), p=(.7, .3))\n",
    "no_trucks = truck_arrival.sum(axis=1) == 0\n",
    "no_trucks.mean()\n"
   ]
  },
  {
   "cell_type": "code",
   "execution_count": 115,
   "metadata": {},
   "outputs": [
    {
     "data": {
      "text/plain": [
       "0.97245"
      ]
     },
     "execution_count": 115,
     "metadata": {},
     "output_type": "execute_result"
    }
   ],
   "source": [
    "\n",
    "truck_this_week = np.random.choice([True,False], (n_rolls, 4), p=(.7, .3)) #After waiting 3 days only 4 days remain in the week.\n",
    "truck_arrives = truck_arrival.sum(axis=1) > 0\n",
    "truck_arrives.mean()\n"
   ]
  },
  {
   "cell_type": "markdown",
   "metadata": {},
   "source": [
    "#### 8. "
   ]
  },
  {
   "cell_type": "markdown",
   "metadata": {},
   "source": [
    "If 23 people are in the same room, what are the odds that two of them share a birthday? What if it's 20 people? 40?"
   ]
  },
  {
   "cell_type": "code",
   "execution_count": 24,
   "metadata": {},
   "outputs": [],
   "source": [
    "days = range(1, 366)\n",
    "\n",
    "twoThree = np.random.choice(days, (n_rolls, 23))\n",
    "twoZero = np.random.choice(days, (n_rolls, 20))\n",
    "fourZero = np.random.choice(days, (n_rolls, 40))\n"
   ]
  },
  {
   "cell_type": "code",
   "execution_count": 25,
   "metadata": {},
   "outputs": [],
   "source": [
    "def get_if_bday_shared_by_group(matrix):\n",
    "    #Check if removing duplicates changes the length of a row\n",
    "    return  np.apply_along_axis(lambda x: len(x) != len(np.unique(x)), axis=1, arr=matrix)"
   ]
  },
  {
   "cell_type": "code",
   "execution_count": 26,
   "metadata": {},
   "outputs": [
    {
     "data": {
      "text/plain": [
       "0.50761"
      ]
     },
     "execution_count": 26,
     "metadata": {},
     "output_type": "execute_result"
    }
   ],
   "source": [
    "get_if_bday_shared_by_group(twoThree).mean()\n"
   ]
  },
  {
   "cell_type": "code",
   "execution_count": 27,
   "metadata": {},
   "outputs": [
    {
     "data": {
      "text/plain": [
       "0.41273"
      ]
     },
     "execution_count": 27,
     "metadata": {},
     "output_type": "execute_result"
    }
   ],
   "source": [
    "get_if_bday_shared_by_group(twoZero).mean()\n"
   ]
  },
  {
   "cell_type": "code",
   "execution_count": 29,
   "metadata": {},
   "outputs": [
    {
     "data": {
      "text/plain": [
       "0.89007"
      ]
     },
     "execution_count": 29,
     "metadata": {},
     "output_type": "execute_result"
    }
   ],
   "source": [
    "get_if_bday_shared_by_group(fourZero).mean()"
   ]
  },
  {
   "cell_type": "markdown",
   "metadata": {},
   "source": [
    "-------------------"
   ]
  },
  {
   "cell_type": "markdown",
   "metadata": {},
   "source": [
    "### Bonus scratchpad"
   ]
  },
  {
   "cell_type": "code",
   "execution_count": 194,
   "metadata": {},
   "outputs": [],
   "source": [
    "def mageduel(x):\n",
    "    df = pd.DataFrame()\n",
    "\n",
    "    df['hp1'] = pd.DataFrame(np.random.randint(1,5, size= (x, 6)).sum(axis=1))\n",
    "    df['damage1'] = pd.DataFrame(np.random.randint(1,5, size= (x, 6)).sum(axis=1))\n",
    "    df['hp2'] = pd.DataFrame(np.random.randint(1,7, size= (x, 4)).sum(axis=1))\n",
    "    df['damage2'] = pd.DataFrame(np.random.randint(1,7, size= (x, 4)).sum(axis=1))\n",
    "\n",
    "    return df\n",
    "    \n",
    "def winner(row):\n",
    "    # return False\n",
    "    first_round =  row[2] - row[1]\n",
    "    second_round = row[0] - row[3]\n",
    "    # return first_round\n",
    "    if  first_round <= 0:\n",
    "        return True\n",
    "    elif first_round > 0:\n",
    "        if second_round < 0:\n",
    "            return False"
   ]
  },
  {
   "cell_type": "code",
   "execution_count": 197,
   "metadata": {},
   "outputs": [
    {
     "data": {
      "text/html": [
       "<div>\n",
       "<style scoped>\n",
       "    .dataframe tbody tr th:only-of-type {\n",
       "        vertical-align: middle;\n",
       "    }\n",
       "\n",
       "    .dataframe tbody tr th {\n",
       "        vertical-align: top;\n",
       "    }\n",
       "\n",
       "    .dataframe thead th {\n",
       "        text-align: right;\n",
       "    }\n",
       "</style>\n",
       "<table border=\"1\" class=\"dataframe\">\n",
       "  <thead>\n",
       "    <tr style=\"text-align: right;\">\n",
       "      <th></th>\n",
       "      <th>hp1</th>\n",
       "      <th>damage1</th>\n",
       "      <th>hp2</th>\n",
       "      <th>damage2</th>\n",
       "      <th>Win</th>\n",
       "    </tr>\n",
       "  </thead>\n",
       "  <tbody>\n",
       "    <tr>\n",
       "      <th>0</th>\n",
       "      <td>21</td>\n",
       "      <td>13</td>\n",
       "      <td>18</td>\n",
       "      <td>13</td>\n",
       "      <td>None</td>\n",
       "    </tr>\n",
       "    <tr>\n",
       "      <th>1</th>\n",
       "      <td>10</td>\n",
       "      <td>14</td>\n",
       "      <td>17</td>\n",
       "      <td>12</td>\n",
       "      <td>False</td>\n",
       "    </tr>\n",
       "    <tr>\n",
       "      <th>2</th>\n",
       "      <td>12</td>\n",
       "      <td>18</td>\n",
       "      <td>15</td>\n",
       "      <td>15</td>\n",
       "      <td>True</td>\n",
       "    </tr>\n",
       "    <tr>\n",
       "      <th>3</th>\n",
       "      <td>10</td>\n",
       "      <td>10</td>\n",
       "      <td>12</td>\n",
       "      <td>14</td>\n",
       "      <td>False</td>\n",
       "    </tr>\n",
       "    <tr>\n",
       "      <th>4</th>\n",
       "      <td>15</td>\n",
       "      <td>17</td>\n",
       "      <td>13</td>\n",
       "      <td>12</td>\n",
       "      <td>True</td>\n",
       "    </tr>\n",
       "    <tr>\n",
       "      <th>5</th>\n",
       "      <td>20</td>\n",
       "      <td>13</td>\n",
       "      <td>13</td>\n",
       "      <td>12</td>\n",
       "      <td>True</td>\n",
       "    </tr>\n",
       "    <tr>\n",
       "      <th>6</th>\n",
       "      <td>16</td>\n",
       "      <td>14</td>\n",
       "      <td>8</td>\n",
       "      <td>20</td>\n",
       "      <td>True</td>\n",
       "    </tr>\n",
       "    <tr>\n",
       "      <th>7</th>\n",
       "      <td>15</td>\n",
       "      <td>11</td>\n",
       "      <td>17</td>\n",
       "      <td>19</td>\n",
       "      <td>False</td>\n",
       "    </tr>\n",
       "    <tr>\n",
       "      <th>8</th>\n",
       "      <td>11</td>\n",
       "      <td>18</td>\n",
       "      <td>13</td>\n",
       "      <td>12</td>\n",
       "      <td>True</td>\n",
       "    </tr>\n",
       "    <tr>\n",
       "      <th>9</th>\n",
       "      <td>16</td>\n",
       "      <td>18</td>\n",
       "      <td>9</td>\n",
       "      <td>14</td>\n",
       "      <td>True</td>\n",
       "    </tr>\n",
       "    <tr>\n",
       "      <th>10</th>\n",
       "      <td>13</td>\n",
       "      <td>15</td>\n",
       "      <td>11</td>\n",
       "      <td>13</td>\n",
       "      <td>True</td>\n",
       "    </tr>\n",
       "    <tr>\n",
       "      <th>11</th>\n",
       "      <td>12</td>\n",
       "      <td>11</td>\n",
       "      <td>20</td>\n",
       "      <td>18</td>\n",
       "      <td>False</td>\n",
       "    </tr>\n",
       "    <tr>\n",
       "      <th>12</th>\n",
       "      <td>16</td>\n",
       "      <td>17</td>\n",
       "      <td>17</td>\n",
       "      <td>11</td>\n",
       "      <td>True</td>\n",
       "    </tr>\n",
       "    <tr>\n",
       "      <th>13</th>\n",
       "      <td>13</td>\n",
       "      <td>16</td>\n",
       "      <td>9</td>\n",
       "      <td>14</td>\n",
       "      <td>True</td>\n",
       "    </tr>\n",
       "    <tr>\n",
       "      <th>14</th>\n",
       "      <td>11</td>\n",
       "      <td>20</td>\n",
       "      <td>13</td>\n",
       "      <td>16</td>\n",
       "      <td>True</td>\n",
       "    </tr>\n",
       "    <tr>\n",
       "      <th>15</th>\n",
       "      <td>12</td>\n",
       "      <td>14</td>\n",
       "      <td>12</td>\n",
       "      <td>13</td>\n",
       "      <td>True</td>\n",
       "    </tr>\n",
       "    <tr>\n",
       "      <th>16</th>\n",
       "      <td>14</td>\n",
       "      <td>16</td>\n",
       "      <td>13</td>\n",
       "      <td>13</td>\n",
       "      <td>True</td>\n",
       "    </tr>\n",
       "    <tr>\n",
       "      <th>17</th>\n",
       "      <td>13</td>\n",
       "      <td>11</td>\n",
       "      <td>16</td>\n",
       "      <td>14</td>\n",
       "      <td>False</td>\n",
       "    </tr>\n",
       "    <tr>\n",
       "      <th>18</th>\n",
       "      <td>16</td>\n",
       "      <td>12</td>\n",
       "      <td>17</td>\n",
       "      <td>15</td>\n",
       "      <td>None</td>\n",
       "    </tr>\n",
       "    <tr>\n",
       "      <th>19</th>\n",
       "      <td>14</td>\n",
       "      <td>15</td>\n",
       "      <td>6</td>\n",
       "      <td>21</td>\n",
       "      <td>True</td>\n",
       "    </tr>\n",
       "  </tbody>\n",
       "</table>\n",
       "</div>"
      ],
      "text/plain": [
       "    hp1  damage1  hp2  damage2    Win\n",
       "0    21       13   18       13   None\n",
       "1    10       14   17       12  False\n",
       "2    12       18   15       15   True\n",
       "3    10       10   12       14  False\n",
       "4    15       17   13       12   True\n",
       "5    20       13   13       12   True\n",
       "6    16       14    8       20   True\n",
       "7    15       11   17       19  False\n",
       "8    11       18   13       12   True\n",
       "9    16       18    9       14   True\n",
       "10   13       15   11       13   True\n",
       "11   12       11   20       18  False\n",
       "12   16       17   17       11   True\n",
       "13   13       16    9       14   True\n",
       "14   11       20   13       16   True\n",
       "15   12       14   12       13   True\n",
       "16   14       16   13       13   True\n",
       "17   13       11   16       14  False\n",
       "18   16       12   17       15   None\n",
       "19   14       15    6       21   True"
      ]
     },
     "execution_count": 197,
     "metadata": {},
     "output_type": "execute_result"
    }
   ],
   "source": [
    "duels= mageduel(20)\n",
    "\n",
    "duels['Win'] = duels.apply(winner, axis=1)\n",
    "duels"
   ]
  },
  {
   "cell_type": "code",
   "execution_count": null,
   "metadata": {},
   "outputs": [],
   "source": [
    "def damage_roll(wizard):\n",
    "    if 1:\n",
    "        4d6\n",
    "    if 2:\n",
    "        6d4\n",
    "\n",
    "DF= [[hp1,hp2],\n",
    "        [10,12]]\n",
    "\n",
    "df duel (row):\n",
    "    While both standing\n",
    "        Deal damage and update hP\n",
    "\n",
    "new column = DF.apply(duel, axis=1)"
   ]
  },
  {
   "cell_type": "code",
   "execution_count": 34,
   "metadata": {},
   "outputs": [],
   "source": [
    "def roll(n_die,n_faces):\n",
    "    return np.random.choice(range(1,n_faces+1), n_die).sum()\n",
    "\n",
    "def mageduel(x):\n",
    "    df = pd.DataFrame()\n",
    "    df[\"hp1\"] = pd.DataFrame(np.random.randint(1,5, size= (x, 6)).sum(axis=1))\n",
    "    # df['damage1'] = pd.DataFrame(np.random.randint(1,5, size= (x, 6)).sum(axis=1))\n",
    "    df['hp2'] = pd.DataFrame(np.random.randint(1,7, size= (x, 4)).sum(axis=1))\n",
    "    # df['damage2'] = pd.DataFrame(np.random.randint(1,7, size= (x, 4)).sum(axis=1))\n",
    "    return df\n",
    "\n",
    "\n",
    "    \n",
    "def winner(row):\n",
    "    # Record the starting HPs\n",
    "    wiz1_hp = row[0]\n",
    "    wiz2_hp =  row[1]\n",
    "\n",
    "    # Keep fighting until someone goes down\n",
    "    while wiz1_hp > 0 and wiz2_hp > 0:\n",
    "        wiz1_hp -= roll(6,4)\n",
    "        wiz2_hp -= roll(4,6)\n",
    "    \n",
    "    # Since wiz1 goes first, if wiz 2 is down he wins.  Otherwise he loses\n",
    "    if wiz2_hp <= 0:\n",
    "        return 'Wizard 1'\n",
    "    else:\n",
    "        return 'Wizard 2'\n",
    "\n",
    "mageduel(5).apply(winner, axis=1)"
   ]
  },
  {
   "cell_type": "code",
   "execution_count": 35,
   "metadata": {},
   "outputs": [
    {
     "data": {
      "text/html": [
       "<div>\n",
       "<style scoped>\n",
       "    .dataframe tbody tr th:only-of-type {\n",
       "        vertical-align: middle;\n",
       "    }\n",
       "\n",
       "    .dataframe tbody tr th {\n",
       "        vertical-align: top;\n",
       "    }\n",
       "\n",
       "    .dataframe thead th {\n",
       "        text-align: right;\n",
       "    }\n",
       "</style>\n",
       "<table border=\"1\" class=\"dataframe\">\n",
       "  <thead>\n",
       "    <tr style=\"text-align: right;\">\n",
       "      <th></th>\n",
       "      <th>hp1</th>\n",
       "      <th>hp2</th>\n",
       "    </tr>\n",
       "  </thead>\n",
       "  <tbody>\n",
       "    <tr>\n",
       "      <th>0</th>\n",
       "      <td>18</td>\n",
       "      <td>16</td>\n",
       "    </tr>\n",
       "    <tr>\n",
       "      <th>1</th>\n",
       "      <td>17</td>\n",
       "      <td>20</td>\n",
       "    </tr>\n",
       "    <tr>\n",
       "      <th>2</th>\n",
       "      <td>13</td>\n",
       "      <td>18</td>\n",
       "    </tr>\n",
       "  </tbody>\n",
       "</table>\n",
       "</div>"
      ],
      "text/plain": [
       "   hp1  hp2\n",
       "0   18   16\n",
       "1   17   20\n",
       "2   13   18"
      ]
     },
     "execution_count": 35,
     "metadata": {},
     "output_type": "execute_result"
    }
   ],
   "source": [
    "fight = mageduel(3)\n",
    "fight"
   ]
  },
  {
   "cell_type": "code",
   "execution_count": 37,
   "metadata": {},
   "outputs": [
    {
     "data": {
      "text/plain": [
       "0    Wizard 2\n",
       "1    Wizard 2\n",
       "2    Wizard 1\n",
       "3    Wizard 2\n",
       "4    Wizard 1\n",
       "dtype: object"
      ]
     },
     "execution_count": 37,
     "metadata": {},
     "output_type": "execute_result"
    }
   ],
   "source": [
    "mageduel(5).apply(winner, axis=1)"
   ]
  }
 ],
 "metadata": {
  "kernelspec": {
   "display_name": "Python 3.10.4 64-bit",
   "language": "python",
   "name": "python3"
  },
  "language_info": {
   "codemirror_mode": {
    "name": "ipython",
    "version": 3
   },
   "file_extension": ".py",
   "mimetype": "text/x-python",
   "name": "python",
   "nbconvert_exporter": "python",
   "pygments_lexer": "ipython3",
   "version": "3.10.4"
  },
  "orig_nbformat": 4,
  "vscode": {
   "interpreter": {
    "hash": "37b4e1d782780d9803a775659fc8b81e9cc61a0899d4564192c1f7cc3c556e45"
   }
  }
 },
 "nbformat": 4,
 "nbformat_minor": 2
}
